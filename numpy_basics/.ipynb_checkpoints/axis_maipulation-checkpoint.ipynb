{
 "cells": [
  {
   "cell_type": "code",
   "execution_count": 2,
   "id": "0757124c-7247-4581-984e-29526989dd37",
   "metadata": {},
   "outputs": [
    {
     "data": {
      "text/plain": [
       "2"
      ]
     },
     "execution_count": 2,
     "metadata": {},
     "output_type": "execute_result"
    }
   ],
   "source": [
    "import numpy as np\n",
    "arr=np.array([[1,2,3],[2,5,7],[6,8,7]])\n",
    "np.sum(arr,axis=1)\n",
    "arr[0,1]"
   ]
  },
  {
   "cell_type": "raw",
   "id": "121779a6-646b-4f50-8902-f8b949c2d199",
   "metadata": {},
   "source": []
  },
  {
   "cell_type": "code",
   "execution_count": 4,
   "id": "e2a03f00-a234-44e0-b2ad-888fdf48f58f",
   "metadata": {},
   "outputs": [
    {
     "data": {
      "text/plain": [
       "array([[1, 2],\n",
       "       [2, 5]])"
      ]
     },
     "execution_count": 4,
     "metadata": {},
     "output_type": "execute_result"
    }
   ],
   "source": [
    "arr[0:2,0:2]#to acess a list of 2d with condition "
   ]
  },
  {
   "cell_type": "code",
   "execution_count": 11,
   "id": "94a70af6-42cd-4c71-8c40-50613494745c",
   "metadata": {},
   "outputs": [
    {
     "name": "stdout",
     "output_type": "stream",
     "text": [
      "[[[1 2 3]\n",
      "  [2 5 7]]\n",
      "\n",
      " [[1 2 3]\n",
      "  [2 5 7]]]\n"
     ]
    }
   ],
   "source": [
    "array3d=np.array([#to create and manipulate a 3d array\n",
    "    [[1,2,3],[2,5,7],[6,8,7]]\n",
    "    ,\n",
    "    [[1,2,3],[2,5,7],[6,8,7]]\n",
    "\n",
    "])\n",
    "print(array3d[:,0:2,0:3])"
   ]
  }
 ],
 "metadata": {
  "kernelspec": {
   "display_name": "Python [conda env:base] *",
   "language": "python",
   "name": "conda-base-py"
  },
  "language_info": {
   "codemirror_mode": {
    "name": "ipython",
    "version": 3
   },
   "file_extension": ".py",
   "mimetype": "text/x-python",
   "name": "python",
   "nbconvert_exporter": "python",
   "pygments_lexer": "ipython3",
   "version": "3.12.7"
  }
 },
 "nbformat": 4,
 "nbformat_minor": 5
}
