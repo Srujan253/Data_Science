{
 "cells": [
  {
   "cell_type": "code",
   "execution_count": 5,
   "id": "2daae2c1-cef4-456e-85bb-248bc7389eb2",
   "metadata": {},
   "outputs": [
    {
     "name": "stdout",
     "output_type": "stream",
     "text": [
      "[[1 2 3]\n",
      " [3 3 3]\n",
      " [4 7 8]]\n",
      "(3, 3)\n"
     ]
    }
   ],
   "source": [
    "import numpy as np \n",
    "random_array=np.array([[1,2,3],[3,3,3],[4,7,8]])\n",
    "print(random_array)\n",
    "print(random_array.shape)\n"
   ]
  },
  {
   "cell_type": "code",
   "execution_count": 13,
   "id": "8c73531c-5703-4942-abb0-217b490b467c",
   "metadata": {},
   "outputs": [
    {
     "name": "stdout",
     "output_type": "stream",
     "text": [
      "[1.1 2.2 3.3]\n",
      "[1 2 3]\n"
     ]
    },
    {
     "data": {
      "text/plain": [
       "dtype('float64')"
      ]
     },
     "execution_count": 13,
     "metadata": {},
     "output_type": "execute_result"
    }
   ],
   "source": [
    "float_array=np.array([1.1,2.2,3.3])\n",
    "int_conv_array=float_array.astype(np.int32)\n",
    "print(float_array)\n",
    "print(int_conv_array)\n",
    "float_array.dtype"
   ]
  },
  {
   "cell_type": "code",
   "execution_count": 17,
   "id": "c4d80987-1f54-48a1-b01f-df20414a2c15",
   "metadata": {},
   "outputs": [
    {
     "name": "stdout",
     "output_type": "stream",
     "text": [
      "[2 4 6 8 0]\n"
     ]
    }
   ],
   "source": [
    "array=np.array([2,3,4,5,6,7,8,9,0])\n",
    "even_array=array[array%2==0]\n",
    "print(even_array)"
   ]
  },
  {
   "cell_type": "code",
   "execution_count": 21,
   "id": "0761c6d0-4f89-4ce3-8719-7e30ea8c0189",
   "metadata": {},
   "outputs": [
    {
     "name": "stdout",
     "output_type": "stream",
     "text": [
      "[[2 3 4]\n",
      " [5 6 7]\n",
      " [8 9 0]]\n"
     ]
    }
   ],
   "source": [
    "dummy_array=np.array([2,3,4,5,6,7,8,9,0])\n",
    "reshaped_array=dummy_array.reshape((3,3))\n",
    "print(reshaped_array)"
   ]
  }
 ],
 "metadata": {
  "kernelspec": {
   "display_name": "Python [conda env:base] *",
   "language": "python",
   "name": "conda-base-py"
  },
  "language_info": {
   "codemirror_mode": {
    "name": "ipython",
    "version": 3
   },
   "file_extension": ".py",
   "mimetype": "text/x-python",
   "name": "python",
   "nbconvert_exporter": "python",
   "pygments_lexer": "ipython3",
   "version": "3.12.7"
  }
 },
 "nbformat": 4,
 "nbformat_minor": 5
}
