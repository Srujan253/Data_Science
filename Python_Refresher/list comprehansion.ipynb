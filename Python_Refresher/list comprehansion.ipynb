{
 "cells": [
  {
   "cell_type": "code",
   "execution_count": 1,
   "id": "bad33547-59c7-4c1a-8a5d-f658d3a9d2e1",
   "metadata": {},
   "outputs": [
    {
     "name": "stdout",
     "output_type": "stream",
     "text": [
      "Loop time: 0.32525181770324707\n",
      "List Comprehension time: 0.17852306365966797\n"
     ]
    }
   ],
   "source": [
    "import time\n",
    "\n",
    "# Using a for loop\n",
    "start = time.time()\n",
    "squares_loop = []\n",
    "for x in range(10**6):\n",
    "    squares_loop.append(x**2)\n",
    "print(\"Loop time:\", time.time() - start)\n",
    "\n",
    "# Using list comprehension\n",
    "start = time.time()\n",
    "squares_comp = [x**2 for x in range(10**6)]\n",
    "print(\"List Comprehension time:\", time.time() - start)"
   ]
  }
 ],
 "metadata": {
  "kernelspec": {
   "display_name": "Python [conda env:base] *",
   "language": "python",
   "name": "conda-base-py"
  },
  "language_info": {
   "codemirror_mode": {
    "name": "ipython",
    "version": 3
   },
   "file_extension": ".py",
   "mimetype": "text/x-python",
   "name": "python",
   "nbconvert_exporter": "python",
   "pygments_lexer": "ipython3",
   "version": "3.12.7"
  }
 },
 "nbformat": 4,
 "nbformat_minor": 5
}
