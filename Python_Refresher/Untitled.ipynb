{
 "cells": [
  {
   "cell_type": "code",
   "execution_count": null,
   "id": "78e67115-f4e4-459a-b2ef-8a123ba35d65",
   "metadata": {},
   "outputs": [],
   "source": []
  },
  {
   "cell_type": "code",
   "execution_count": 8,
   "id": "4694afe5-9071-4690-a71c-a74f890800d2",
   "metadata": {},
   "outputs": [
    {
     "data": {
      "text/plain": [
       "str"
      ]
     },
     "execution_count": 8,
     "metadata": {},
     "output_type": "execute_result"
    }
   ],
   "source": [
    "import json\n",
    "obj={\"name\":\"Boboboy\",\"Company\":\"Kitchen\"}\n",
    "d=json.dumps(obj)\n",
    "type(d)\n"
   ]
  },
  {
   "cell_type": "code",
   "execution_count": 9,
   "id": "d153360e-4fbd-4caa-b484-f7dc1823dfa3",
   "metadata": {},
   "outputs": [
    {
     "data": {
      "text/plain": [
       "'{\"name\": \"Boboboy\", \"Company\": \"Kitchen\"}'"
      ]
     },
     "execution_count": 9,
     "metadata": {},
     "output_type": "execute_result"
    }
   ],
   "source": [
    "d"
   ]
  },
  {
   "cell_type": "code",
   "execution_count": 10,
   "id": "d60efac8-2f97-43c5-97d0-e50628d7eee1",
   "metadata": {},
   "outputs": [],
   "source": [
    "file=open(\"data.json\",\"w\")"
   ]
  },
  {
   "cell_type": "code",
   "execution_count": 6,
   "id": "99604c36-16ff-49eb-bc12-3b1669528e95",
   "metadata": {},
   "outputs": [],
   "source": [
    "json.dump(obj,file)\n"
   ]
  },
  {
   "cell_type": "code",
   "execution_count": 7,
   "id": "80183109-37ce-4642-9551-4c6e90507206",
   "metadata": {},
   "outputs": [],
   "source": [
    "file.close()"
   ]
  }
 ],
 "metadata": {
  "kernelspec": {
   "display_name": "Python [conda env:base] *",
   "language": "python",
   "name": "conda-base-py"
  },
  "language_info": {
   "codemirror_mode": {
    "name": "ipython",
    "version": 3
   },
   "file_extension": ".py",
   "mimetype": "text/x-python",
   "name": "python",
   "nbconvert_exporter": "python",
   "pygments_lexer": "ipython3",
   "version": "3.12.7"
  }
 },
 "nbformat": 4,
 "nbformat_minor": 5
}
