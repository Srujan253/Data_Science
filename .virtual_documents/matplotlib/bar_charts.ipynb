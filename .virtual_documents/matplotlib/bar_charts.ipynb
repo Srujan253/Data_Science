import matplotlib.pyplot as plt
plt.ti



