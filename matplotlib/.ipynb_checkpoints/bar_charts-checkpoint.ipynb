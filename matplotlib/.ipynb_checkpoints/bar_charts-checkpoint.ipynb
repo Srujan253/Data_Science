{
 "cells": [
  {
   "cell_type": "code",
   "execution_count": null,
   "id": "1bca2544-5578-49e5-a020-078af7cbaa01",
   "metadata": {},
   "outputs": [],
   "source": [
    "import "
   ]
  },
  {
   "cell_type": "code",
   "execution_count": 1,
   "id": "5a8f3b1b-9385-456a-9980-cab8551a9c23",
   "metadata": {},
   "outputs": [
    {
     "ename": "SyntaxError",
     "evalue": "invalid syntax (2768807296.py, line 1)",
     "output_type": "error",
     "traceback": [
      "\u001b[1;36m  Cell \u001b[1;32mIn[1], line 1\u001b[1;36m\u001b[0m\n\u001b[1;33m    conda install -c conda-forge jupyter_contrib_nbextensions\u001b[0m\n\u001b[1;37m          ^\u001b[0m\n\u001b[1;31mSyntaxError\u001b[0m\u001b[1;31m:\u001b[0m invalid syntax\n"
     ]
    }
   ],
   "source": [
    "conda install -c conda-forge jupyter_contrib_nbextensions\n",
    "jupyter contrib nbextension install --user\n"
   ]
  },
  {
   "cell_type": "code",
   "execution_count": null,
   "id": "f9d8d0ce-72e3-4e5a-bfa2-33808b754daa",
   "metadata": {},
   "outputs": [],
   "source": [
    "!conda install -c conda-forge jupyter_contrib_nbextensions -y\n",
    "!jupyter contrib nbextension install --user\n"
   ]
  },
  {
   "cell_type": "code",
   "execution_count": null,
   "id": "dfbbc7bb-52b5-415c-9680-9652722ab941",
   "metadata": {},
   "outputs": [],
   "source": []
  }
 ],
 "metadata": {
  "kernelspec": {
   "display_name": "Python [conda env:base] *",
   "language": "python",
   "name": "conda-base-py"
  },
  "language_info": {
   "codemirror_mode": {
    "name": "ipython",
    "version": 3
   },
   "file_extension": ".py",
   "mimetype": "text/x-python",
   "name": "python",
   "nbconvert_exporter": "python",
   "pygments_lexer": "ipython3",
   "version": "3.12.7"
  }
 },
 "nbformat": 4,
 "nbformat_minor": 5
}
